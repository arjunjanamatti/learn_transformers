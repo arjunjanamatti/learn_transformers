{
 "cells": [
  {
   "cell_type": "code",
   "execution_count": 17,
   "id": "fc6f616c",
   "metadata": {
    "ExecuteTime": {
     "end_time": "2022-07-15T11:24:43.293147Z",
     "start_time": "2022-07-15T11:24:43.276040Z"
    }
   },
   "outputs": [],
   "source": [
    "from transformers import pipeline\n",
    "import pandas as pd\n",
    "from sklearn.model_selection import train_test_split"
   ]
  },
  {
   "cell_type": "code",
   "execution_count": 12,
   "id": "e304cdce",
   "metadata": {
    "ExecuteTime": {
     "end_time": "2022-07-15T11:21:07.784363Z",
     "start_time": "2022-07-15T11:21:07.752370Z"
    }
   },
   "outputs": [],
   "source": [
    "input_data = pd.read_csv('spam_collection.txt', sep='\\t', \n",
    "                         header=None)\n",
    "input_data.columns = ['label', 'message']"
   ]
  },
  {
   "cell_type": "code",
   "execution_count": 13,
   "id": "f459b73d",
   "metadata": {
    "ExecuteTime": {
     "end_time": "2022-07-15T11:21:08.373018Z",
     "start_time": "2022-07-15T11:21:08.348488Z"
    }
   },
   "outputs": [
    {
     "data": {
      "text/html": [
       "<div>\n",
       "<style scoped>\n",
       "    .dataframe tbody tr th:only-of-type {\n",
       "        vertical-align: middle;\n",
       "    }\n",
       "\n",
       "    .dataframe tbody tr th {\n",
       "        vertical-align: top;\n",
       "    }\n",
       "\n",
       "    .dataframe thead th {\n",
       "        text-align: right;\n",
       "    }\n",
       "</style>\n",
       "<table border=\"1\" class=\"dataframe\">\n",
       "  <thead>\n",
       "    <tr style=\"text-align: right;\">\n",
       "      <th></th>\n",
       "      <th>label</th>\n",
       "      <th>message</th>\n",
       "    </tr>\n",
       "  </thead>\n",
       "  <tbody>\n",
       "    <tr>\n",
       "      <th>0</th>\n",
       "      <td>ham</td>\n",
       "      <td>Go until jurong point, crazy.. Available only ...</td>\n",
       "    </tr>\n",
       "  </tbody>\n",
       "</table>\n",
       "</div>"
      ],
      "text/plain": [
       "  label                                            message\n",
       "0   ham  Go until jurong point, crazy.. Available only ..."
      ]
     },
     "execution_count": 13,
     "metadata": {},
     "output_type": "execute_result"
    }
   ],
   "source": [
    "input_data.head(1)"
   ]
  },
  {
   "cell_type": "code",
   "execution_count": 14,
   "id": "0ceb8c33",
   "metadata": {
    "ExecuteTime": {
     "end_time": "2022-07-15T11:22:26.028897Z",
     "start_time": "2022-07-15T11:22:26.012387Z"
    }
   },
   "outputs": [],
   "source": [
    "# independent features\n",
    "X = list(input_data['message'])\n",
    "\n",
    "# dependent features\n",
    "y = list(input_data['label'])"
   ]
  },
  {
   "cell_type": "code",
   "execution_count": 16,
   "id": "ad98ea24",
   "metadata": {
    "ExecuteTime": {
     "end_time": "2022-07-15T11:23:40.937800Z",
     "start_time": "2022-07-15T11:23:40.927311Z"
    }
   },
   "outputs": [],
   "source": [
    "# encoding the dependent features\n",
    "y = list(pd.get_dummies(y, drop_first=True)['spam'])"
   ]
  },
  {
   "cell_type": "code",
   "execution_count": null,
   "id": "d9b6244e",
   "metadata": {},
   "outputs": [],
   "source": [
    "# train test split\n",
    "X_train, X_test, y_train, y_test = train_test_split(X=X)"
   ]
  }
 ],
 "metadata": {
  "kernelspec": {
   "display_name": "Python 3",
   "language": "python",
   "name": "python3"
  },
  "language_info": {
   "codemirror_mode": {
    "name": "ipython",
    "version": 3
   },
   "file_extension": ".py",
   "mimetype": "text/x-python",
   "name": "python",
   "nbconvert_exporter": "python",
   "pygments_lexer": "ipython3",
   "version": "3.9.5"
  }
 },
 "nbformat": 4,
 "nbformat_minor": 5
}
