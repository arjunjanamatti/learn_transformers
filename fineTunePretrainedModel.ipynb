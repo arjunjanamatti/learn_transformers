{
 "cells": [
  {
   "cell_type": "code",
   "execution_count": 1,
   "id": "31e8b533",
   "metadata": {
    "ExecuteTime": {
     "end_time": "2022-07-15T11:33:07.388523Z",
     "start_time": "2022-07-15T11:33:01.281620Z"
    }
   },
   "outputs": [],
   "source": [
    "from transformers import pipeline, DistilBertTokenizerFast\n",
    "import pandas as pd, tensorflow as tf\n",
    "from sklearn.model_selection import train_test_split"
   ]
  },
  {
   "cell_type": "code",
   "execution_count": 2,
   "id": "818da1d8",
   "metadata": {
    "ExecuteTime": {
     "end_time": "2022-07-15T11:33:07.429970Z",
     "start_time": "2022-07-15T11:33:07.391305Z"
    }
   },
   "outputs": [],
   "source": [
    "input_data = pd.read_csv('spam_collection.txt', sep='\\t', \n",
    "                         header=None)\n",
    "input_data.columns = ['label', 'message']"
   ]
  },
  {
   "cell_type": "code",
   "execution_count": 3,
   "id": "8c2f09b0",
   "metadata": {
    "ExecuteTime": {
     "end_time": "2022-07-15T11:33:07.460767Z",
     "start_time": "2022-07-15T11:33:07.432798Z"
    }
   },
   "outputs": [
    {
     "data": {
      "text/html": [
       "<div>\n",
       "<style scoped>\n",
       "    .dataframe tbody tr th:only-of-type {\n",
       "        vertical-align: middle;\n",
       "    }\n",
       "\n",
       "    .dataframe tbody tr th {\n",
       "        vertical-align: top;\n",
       "    }\n",
       "\n",
       "    .dataframe thead th {\n",
       "        text-align: right;\n",
       "    }\n",
       "</style>\n",
       "<table border=\"1\" class=\"dataframe\">\n",
       "  <thead>\n",
       "    <tr style=\"text-align: right;\">\n",
       "      <th></th>\n",
       "      <th>label</th>\n",
       "      <th>message</th>\n",
       "    </tr>\n",
       "  </thead>\n",
       "  <tbody>\n",
       "    <tr>\n",
       "      <th>0</th>\n",
       "      <td>ham</td>\n",
       "      <td>Go until jurong point, crazy.. Available only ...</td>\n",
       "    </tr>\n",
       "  </tbody>\n",
       "</table>\n",
       "</div>"
      ],
      "text/plain": [
       "  label                                            message\n",
       "0   ham  Go until jurong point, crazy.. Available only ..."
      ]
     },
     "execution_count": 3,
     "metadata": {},
     "output_type": "execute_result"
    }
   ],
   "source": [
    "input_data.head(1)"
   ]
  },
  {
   "cell_type": "code",
   "execution_count": 4,
   "id": "ff203880",
   "metadata": {
    "ExecuteTime": {
     "end_time": "2022-07-15T11:33:07.476167Z",
     "start_time": "2022-07-15T11:33:07.461797Z"
    }
   },
   "outputs": [],
   "source": [
    "# independent features\n",
    "X = list(input_data['message'])\n",
    "\n",
    "# dependent features\n",
    "y = list(input_data['label'])"
   ]
  },
  {
   "cell_type": "code",
   "execution_count": 5,
   "id": "edebdf06",
   "metadata": {
    "ExecuteTime": {
     "end_time": "2022-07-15T11:33:07.484404Z",
     "start_time": "2022-07-15T11:33:07.478388Z"
    }
   },
   "outputs": [],
   "source": [
    "# encoding the dependent features\n",
    "y = list(pd.get_dummies(y, drop_first=True)['spam'])"
   ]
  },
  {
   "cell_type": "code",
   "execution_count": 6,
   "id": "8eb7bdab",
   "metadata": {
    "ExecuteTime": {
     "end_time": "2022-07-15T11:33:07.493989Z",
     "start_time": "2022-07-15T11:33:07.486728Z"
    }
   },
   "outputs": [],
   "source": [
    "# train test split\n",
    "X_train, X_test, y_train, y_test = train_test_split(X, y,\n",
    "                                                    test_size=0.2, \n",
    "                                                    random_state=0)"
   ]
  },
  {
   "cell_type": "markdown",
   "id": "8cbe036b",
   "metadata": {
    "ExecuteTime": {
     "end_time": "2022-07-15T11:25:58.703104Z",
     "start_time": "2022-07-15T11:25:58.635641Z"
    }
   },
   "source": [
    "##### Steps\n",
    "1. Call the pretrained model\n",
    "2. Call the tokenizer, since it has to be applied to input\n",
    "3. "
   ]
  },
  {
   "cell_type": "code",
   "execution_count": null,
   "id": "4a6c3a63",
   "metadata": {
    "ExecuteTime": {
     "start_time": "2022-07-15T11:33:01.310Z"
    }
   },
   "outputs": [],
   "source": [
    "# call the tokenizer\n",
    "tokenizer = DistilBertTokenizerFast.from_pretrained('distilbert-base-uncased')"
   ]
  },
  {
   "cell_type": "code",
   "execution_count": null,
   "id": "c5961c30",
   "metadata": {
    "ExecuteTime": {
     "start_time": "2022-07-15T11:33:01.311Z"
    }
   },
   "outputs": [],
   "source": [
    "train_embeddings = tokenizer(X_train, truncation=True, padding=True)\n",
    "test_embeddings = tokenizer(X_test, truncation=True, padding=True)"
   ]
  },
  {
   "cell_type": "code",
   "execution_count": null,
   "id": "0e3e86ff",
   "metadata": {},
   "outputs": [],
   "source": []
  }
 ],
 "metadata": {
  "kernelspec": {
   "display_name": "Python 3",
   "language": "python",
   "name": "python3"
  },
  "language_info": {
   "codemirror_mode": {
    "name": "ipython",
    "version": 3
   },
   "file_extension": ".py",
   "mimetype": "text/x-python",
   "name": "python",
   "nbconvert_exporter": "python",
   "pygments_lexer": "ipython3",
   "version": "3.9.5"
  }
 },
 "nbformat": 4,
 "nbformat_minor": 5
}
