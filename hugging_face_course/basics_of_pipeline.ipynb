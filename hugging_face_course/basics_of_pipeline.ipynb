{
 "cells": [
  {
   "cell_type": "code",
   "execution_count": 1,
   "id": "b062810c",
   "metadata": {
    "ExecuteTime": {
     "end_time": "2022-07-16T17:31:44.256804Z",
     "start_time": "2022-07-16T17:31:41.937993Z"
    }
   },
   "outputs": [],
   "source": [
    "from transformers import pipeline"
   ]
  },
  {
   "cell_type": "code",
   "execution_count": 2,
   "id": "bda69f04",
   "metadata": {
    "ExecuteTime": {
     "end_time": "2022-07-16T17:32:36.683259Z",
     "start_time": "2022-07-16T17:32:16.048566Z"
    }
   },
   "outputs": [
    {
     "name": "stderr",
     "output_type": "stream",
     "text": [
      "No model was supplied, defaulted to distilbert-base-uncased-finetuned-sst-2-english (https://huggingface.co/distilbert-base-uncased-finetuned-sst-2-english)\n"
     ]
    },
    {
     "data": {
      "text/plain": [
       "[{'label': 'POSITIVE', 'score': 0.9880545735359192}]"
      ]
     },
     "execution_count": 2,
     "metadata": {},
     "output_type": "execute_result"
    }
   ],
   "source": [
    "classifier = pipeline(\"sentiment-analysis\")\n",
    "classifier(\"I am waiting for huggings face course\")"
   ]
  },
  {
   "cell_type": "code",
   "execution_count": 3,
   "id": "05618ffa",
   "metadata": {
    "ExecuteTime": {
     "end_time": "2022-07-16T17:32:48.190215Z",
     "start_time": "2022-07-16T17:32:48.123296Z"
    }
   },
   "outputs": [
    {
     "data": {
      "text/plain": [
       "[{'label': 'POSITIVE', 'score': 0.9598049521446228},\n",
       " {'label': 'NEGATIVE', 'score': 0.9994558691978455}]"
      ]
     },
     "execution_count": 3,
     "metadata": {},
     "output_type": "execute_result"
    }
   ],
   "source": [
    "# we can pass several sentences\n",
    "classifier(\n",
    "    [\"I've been waiting for a HuggingFace course my whole life.\", \n",
    "     \"I hate this so much!\"]\n",
    ")"
   ]
  },
  {
   "cell_type": "markdown",
   "id": "1dc02328",
   "metadata": {},
   "source": [
    "Three main steps involved when we pass some text to a pipeline:\n",
    "1. The text in preprocessed into a format the model can understand\n",
    "2. The preprocessed inputs are passed to the model\n",
    "3. The predictions of the model are post-processed, so we can make sense of them"
   ]
  },
  {
   "cell_type": "markdown",
   "id": "dfa24906",
   "metadata": {},
   "source": [
    "Some of the currently available pipelines are:\n",
    "* feature-extraction (get the vector representation of text)\n",
    "* fill-mask\n",
    "* ner (named entity recognition)\n",
    "* question-answering\n",
    "* sentiment-analysis\n",
    "* summarization\n",
    "* text-generation\n",
    "* translation\n",
    "* zero-shot-classification"
   ]
  },
  {
   "cell_type": "markdown",
   "id": "30105bc2",
   "metadata": {},
   "source": [
    "##### zero-shot classification\n",
    "Here we need to classify texts that have not been labelled. This is a common scenario in real-world projects because annotating text is usually time-consuming and requires domain expertise. For this use case, the zero-shot-classification pipeline is very powerful: it allows you to specify which labels to use for the classification, so you do not have to rely on the labels of the pretrained model. "
   ]
  },
  {
   "cell_type": "code",
   "execution_count": 7,
   "id": "8077a3e1",
   "metadata": {
    "ExecuteTime": {
     "end_time": "2022-07-16T17:50:47.844392Z",
     "start_time": "2022-07-16T17:50:25.843521Z"
    }
   },
   "outputs": [
    {
     "name": "stderr",
     "output_type": "stream",
     "text": [
      "No model was supplied, defaulted to facebook/bart-large-mnli (https://huggingface.co/facebook/bart-large-mnli)\n"
     ]
    }
   ],
   "source": [
    "classifier_1 = pipeline(\"zero-shot-classification\")"
   ]
  },
  {
   "cell_type": "code",
   "execution_count": 5,
   "id": "37a29136",
   "metadata": {
    "ExecuteTime": {
     "end_time": "2022-07-16T17:49:40.006706Z",
     "start_time": "2022-07-16T17:49:39.367201Z"
    }
   },
   "outputs": [
    {
     "data": {
      "text/plain": [
       "{'sequence': 'This is a course about the Transformers library',\n",
       " 'labels': ['education', 'business', 'politics'],\n",
       " 'scores': [0.8445992469787598, 0.11197393387556076, 0.04342679679393768]}"
      ]
     },
     "execution_count": 5,
     "metadata": {},
     "output_type": "execute_result"
    }
   ],
   "source": [
    "classifier_1(\n",
    "    \"This is a course about the Transformers library\",\n",
    "    candidate_labels=[\"education\", \"politics\", \"business\"],\n",
    ")"
   ]
  },
  {
   "cell_type": "code",
   "execution_count": 6,
   "id": "159540a9",
   "metadata": {
    "ExecuteTime": {
     "end_time": "2022-07-16T17:49:47.341939Z",
     "start_time": "2022-07-16T17:49:46.750836Z"
    }
   },
   "outputs": [
    {
     "data": {
      "text/plain": [
       "{'sequence': 'The economy is may be on a downward trend worldwide',\n",
       " 'labels': ['business', 'education', 'politics'],\n",
       " 'scores': [0.9483700394630432, 0.028782233595848083, 0.02284778095781803]}"
      ]
     },
     "execution_count": 6,
     "metadata": {},
     "output_type": "execute_result"
    }
   ],
   "source": [
    "classifier_1(\n",
    "    \"The economy is may be on a downward trend worldwide\",\n",
    "    candidate_labels=[\"education\", \"politics\", \"business\"],\n",
    ")"
   ]
  },
  {
   "cell_type": "markdown",
   "id": "03b3929d",
   "metadata": {},
   "source": [
    "##### text generation\n",
    "The main idea here is to provide a prompt and the model will auto-complete it by generating the remaining text. This is similar to the predictive text feature that is found on many phones."
   ]
  },
  {
   "cell_type": "code",
   "execution_count": 8,
   "id": "7a37f384",
   "metadata": {
    "ExecuteTime": {
     "end_time": "2022-07-16T17:54:31.305476Z",
     "start_time": "2022-07-16T17:51:38.796087Z"
    }
   },
   "outputs": [
    {
     "name": "stderr",
     "output_type": "stream",
     "text": [
      "No model was supplied, defaulted to gpt2 (https://huggingface.co/gpt2)\n"
     ]
    },
    {
     "data": {
      "application/vnd.jupyter.widget-view+json": {
       "model_id": "0e344e1b4bfe46ecaf23bdecd6bb5f15",
       "version_major": 2,
       "version_minor": 0
      },
      "text/plain": [
       "Downloading:   0%|          | 0.00/665 [00:00<?, ?B/s]"
      ]
     },
     "metadata": {},
     "output_type": "display_data"
    },
    {
     "data": {
      "application/vnd.jupyter.widget-view+json": {
       "model_id": "57bb2e1497e24073b0606195bb2871ed",
       "version_major": 2,
       "version_minor": 0
      },
      "text/plain": [
       "Downloading:   0%|          | 0.00/523M [00:00<?, ?B/s]"
      ]
     },
     "metadata": {},
     "output_type": "display_data"
    },
    {
     "data": {
      "application/vnd.jupyter.widget-view+json": {
       "model_id": "c2e986f120814600bd357b4dae4a8de3",
       "version_major": 2,
       "version_minor": 0
      },
      "text/plain": [
       "Downloading:   0%|          | 0.00/0.99M [00:00<?, ?B/s]"
      ]
     },
     "metadata": {},
     "output_type": "display_data"
    },
    {
     "data": {
      "application/vnd.jupyter.widget-view+json": {
       "model_id": "7f44eb5154364b69a0576d8bd8954896",
       "version_major": 2,
       "version_minor": 0
      },
      "text/plain": [
       "Downloading:   0%|          | 0.00/446k [00:00<?, ?B/s]"
      ]
     },
     "metadata": {},
     "output_type": "display_data"
    },
    {
     "data": {
      "application/vnd.jupyter.widget-view+json": {
       "model_id": "b9e507cf7b864a6fba285117079b96dc",
       "version_major": 2,
       "version_minor": 0
      },
      "text/plain": [
       "Downloading:   0%|          | 0.00/1.29M [00:00<?, ?B/s]"
      ]
     },
     "metadata": {},
     "output_type": "display_data"
    }
   ],
   "source": [
    "generator = pipeline(\"text-generation\")"
   ]
  },
  {
   "cell_type": "code",
   "execution_count": 11,
   "id": "d0bdf371",
   "metadata": {
    "ExecuteTime": {
     "end_time": "2022-07-16T17:56:08.106425Z",
     "start_time": "2022-07-16T17:56:05.752876Z"
    }
   },
   "outputs": [
    {
     "name": "stderr",
     "output_type": "stream",
     "text": [
      "Setting `pad_token_id` to `eos_token_id`:50256 for open-end generation.\n"
     ]
    },
    {
     "data": {
      "text/plain": [
       "[{'generated_text': 'In India you will find more and more of this kind of things in India. We know the answer to the question, how do we get rid of corruption in government?\"\\n\\nThe prime minister recently told a conference in Gujarat it would take a long'},\n",
       " {'generated_text': 'In India you will find that if the user has to perform this command, the command will just print out the following:\\n\\n/bin/bash\\n\\nAnd you can see that now, no matter what, the new command is working. In'}]"
      ]
     },
     "execution_count": 11,
     "metadata": {},
     "output_type": "execute_result"
    }
   ],
   "source": [
    "# num_return_sequences will give number of sentences\n",
    "# max length is the length of each sentence\n",
    "generator(\"In India you will find\",num_return_sequences = 2, max_lenght=15)"
   ]
  },
  {
   "cell_type": "markdown",
   "id": "8eb86cf2",
   "metadata": {},
   "source": [
    "The previous examples used the default model for the task at hand, but we can use a particular model from Hub to use in a pipeline for a specific task. Let's try the distilgpt2 model!"
   ]
  },
  {
   "cell_type": "code",
   "execution_count": 12,
   "id": "d0b22906",
   "metadata": {
    "ExecuteTime": {
     "end_time": "2022-07-16T18:01:39.743212Z",
     "start_time": "2022-07-16T17:59:32.473398Z"
    }
   },
   "outputs": [
    {
     "data": {
      "application/vnd.jupyter.widget-view+json": {
       "model_id": "f8ac7e5fd27c4435b57f35f4dbdc2905",
       "version_major": 2,
       "version_minor": 0
      },
      "text/plain": [
       "Downloading:   0%|          | 0.00/762 [00:00<?, ?B/s]"
      ]
     },
     "metadata": {},
     "output_type": "display_data"
    },
    {
     "data": {
      "application/vnd.jupyter.widget-view+json": {
       "model_id": "42884eb5ce6e4822a301b057583f08d3",
       "version_major": 2,
       "version_minor": 0
      },
      "text/plain": [
       "Downloading:   0%|          | 0.00/336M [00:00<?, ?B/s]"
      ]
     },
     "metadata": {},
     "output_type": "display_data"
    },
    {
     "data": {
      "application/vnd.jupyter.widget-view+json": {
       "model_id": "e3796e38031b41e6bb295915a8214c6c",
       "version_major": 2,
       "version_minor": 0
      },
      "text/plain": [
       "Downloading:   0%|          | 0.00/0.99M [00:00<?, ?B/s]"
      ]
     },
     "metadata": {},
     "output_type": "display_data"
    },
    {
     "data": {
      "application/vnd.jupyter.widget-view+json": {
       "model_id": "5c1f49e0ea894c799802414c6f5b2c61",
       "version_major": 2,
       "version_minor": 0
      },
      "text/plain": [
       "Downloading:   0%|          | 0.00/446k [00:00<?, ?B/s]"
      ]
     },
     "metadata": {},
     "output_type": "display_data"
    },
    {
     "data": {
      "application/vnd.jupyter.widget-view+json": {
       "model_id": "a729730476734c2cb9025e8b0310535e",
       "version_major": 2,
       "version_minor": 0
      },
      "text/plain": [
       "Downloading:   0%|          | 0.00/1.29M [00:00<?, ?B/s]"
      ]
     },
     "metadata": {},
     "output_type": "display_data"
    }
   ],
   "source": [
    "generator_1 = pipeline(\"text-generation\",\n",
    "                       model = \"distilgpt2\")"
   ]
  },
  {
   "cell_type": "code",
   "execution_count": 13,
   "id": "83cf27f4",
   "metadata": {
    "ExecuteTime": {
     "end_time": "2022-07-16T18:01:49.210063Z",
     "start_time": "2022-07-16T18:01:47.607232Z"
    }
   },
   "outputs": [
    {
     "name": "stderr",
     "output_type": "stream",
     "text": [
      "Setting `pad_token_id` to `eos_token_id`:50256 for open-end generation.\n"
     ]
    },
    {
     "data": {
      "text/plain": [
       "[{'generated_text': \"In India you will find many cases of sexual assaults in Delhi, even when the police are investigating them, in cases like the case in Delhi, the police have already tried to identify the culprits.\\n\\n\\n\\nThe government's role in identifying\"},\n",
       " {'generated_text': 'In India you will find much to admire in the Indian media coverage of the latest events at the World Cup. The report mentions that the Indian Government will not be buying \"indo-Pakistani cricket equipment\".\\nThe report comes in response to the'}]"
      ]
     },
     "execution_count": 13,
     "metadata": {},
     "output_type": "execute_result"
    }
   ],
   "source": [
    "generator_1(\"In India you will find\",num_return_sequences = 2, max_lenght=15)"
   ]
  },
  {
   "cell_type": "code",
   "execution_count": null,
   "id": "181f8c58",
   "metadata": {},
   "outputs": [],
   "source": []
  }
 ],
 "metadata": {
  "kernelspec": {
   "display_name": "Python 3",
   "language": "python",
   "name": "python3"
  },
  "language_info": {
   "codemirror_mode": {
    "name": "ipython",
    "version": 3
   },
   "file_extension": ".py",
   "mimetype": "text/x-python",
   "name": "python",
   "nbconvert_exporter": "python",
   "pygments_lexer": "ipython3",
   "version": "3.9.5"
  }
 },
 "nbformat": 4,
 "nbformat_minor": 5
}
