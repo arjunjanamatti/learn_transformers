{
 "cells": [
  {
   "cell_type": "code",
   "execution_count": 1,
   "id": "a50fe093",
   "metadata": {
    "ExecuteTime": {
     "end_time": "2022-07-16T17:31:44.256804Z",
     "start_time": "2022-07-16T17:31:41.937993Z"
    }
   },
   "outputs": [],
   "source": [
    "from transformers import pipeline"
   ]
  },
  {
   "cell_type": "code",
   "execution_count": 2,
   "id": "9ae14d13",
   "metadata": {
    "ExecuteTime": {
     "end_time": "2022-07-16T17:32:36.683259Z",
     "start_time": "2022-07-16T17:32:16.048566Z"
    }
   },
   "outputs": [
    {
     "name": "stderr",
     "output_type": "stream",
     "text": [
      "No model was supplied, defaulted to distilbert-base-uncased-finetuned-sst-2-english (https://huggingface.co/distilbert-base-uncased-finetuned-sst-2-english)\n"
     ]
    },
    {
     "data": {
      "text/plain": [
       "[{'label': 'POSITIVE', 'score': 0.9880545735359192}]"
      ]
     },
     "execution_count": 2,
     "metadata": {},
     "output_type": "execute_result"
    }
   ],
   "source": [
    "classifier = pipeline(\"sentiment-analysis\")\n",
    "classifier(\"I am waiting for huggings face course\")"
   ]
  },
  {
   "cell_type": "code",
   "execution_count": 3,
   "id": "f0cb662b",
   "metadata": {
    "ExecuteTime": {
     "end_time": "2022-07-16T17:32:48.190215Z",
     "start_time": "2022-07-16T17:32:48.123296Z"
    }
   },
   "outputs": [
    {
     "data": {
      "text/plain": [
       "[{'label': 'POSITIVE', 'score': 0.9598049521446228},\n",
       " {'label': 'NEGATIVE', 'score': 0.9994558691978455}]"
      ]
     },
     "execution_count": 3,
     "metadata": {},
     "output_type": "execute_result"
    }
   ],
   "source": [
    "# we can pass several sentences\n",
    "classifier(\n",
    "    [\"I've been waiting for a HuggingFace course my whole life.\", \n",
    "     \"I hate this so much!\"]\n",
    ")"
   ]
  },
  {
   "cell_type": "markdown",
   "id": "f3e3810a",
   "metadata": {},
   "source": [
    "Three main steps involved when we pass some text to a pipeline:\n",
    "1. The text in preprocessed into a format the model can understand\n",
    "2. The preprocessed inputs are passed to the model\n",
    "3. The predictions of the model are post-processed, so we can make sense of them"
   ]
  }
 ],
 "metadata": {
  "kernelspec": {
   "display_name": "Python 3",
   "language": "python",
   "name": "python3"
  },
  "language_info": {
   "codemirror_mode": {
    "name": "ipython",
    "version": 3
   },
   "file_extension": ".py",
   "mimetype": "text/x-python",
   "name": "python",
   "nbconvert_exporter": "python",
   "pygments_lexer": "ipython3",
   "version": "3.9.5"
  }
 },
 "nbformat": 4,
 "nbformat_minor": 5
}
