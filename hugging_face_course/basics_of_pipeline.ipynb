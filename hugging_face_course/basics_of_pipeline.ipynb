{
 "cells": [
  {
   "cell_type": "code",
   "execution_count": 1,
   "id": "c2ccff9f",
   "metadata": {
    "ExecuteTime": {
     "end_time": "2022-07-16T17:31:44.256804Z",
     "start_time": "2022-07-16T17:31:41.937993Z"
    }
   },
   "outputs": [],
   "source": [
    "from transformers import pipeline"
   ]
  },
  {
   "cell_type": "code",
   "execution_count": 2,
   "id": "d2a70a80",
   "metadata": {
    "ExecuteTime": {
     "end_time": "2022-07-16T17:32:36.683259Z",
     "start_time": "2022-07-16T17:32:16.048566Z"
    }
   },
   "outputs": [
    {
     "name": "stderr",
     "output_type": "stream",
     "text": [
      "No model was supplied, defaulted to distilbert-base-uncased-finetuned-sst-2-english (https://huggingface.co/distilbert-base-uncased-finetuned-sst-2-english)\n"
     ]
    },
    {
     "data": {
      "text/plain": [
       "[{'label': 'POSITIVE', 'score': 0.9880545735359192}]"
      ]
     },
     "execution_count": 2,
     "metadata": {},
     "output_type": "execute_result"
    }
   ],
   "source": [
    "classifier = pipeline(\"sentiment-analysis\")\n",
    "classifier(\"I am waiting for huggings face course\")"
   ]
  },
  {
   "cell_type": "code",
   "execution_count": 3,
   "id": "f1c1984f",
   "metadata": {
    "ExecuteTime": {
     "end_time": "2022-07-16T17:32:48.190215Z",
     "start_time": "2022-07-16T17:32:48.123296Z"
    }
   },
   "outputs": [
    {
     "data": {
      "text/plain": [
       "[{'label': 'POSITIVE', 'score': 0.9598049521446228},\n",
       " {'label': 'NEGATIVE', 'score': 0.9994558691978455}]"
      ]
     },
     "execution_count": 3,
     "metadata": {},
     "output_type": "execute_result"
    }
   ],
   "source": [
    "# we can pass several sentences\n",
    "classifier(\n",
    "    [\"I've been waiting for a HuggingFace course my whole life.\", \n",
    "     \"I hate this so much!\"]\n",
    ")"
   ]
  },
  {
   "cell_type": "markdown",
   "id": "45618b89",
   "metadata": {},
   "source": [
    "Three main steps involved when we pass some text to a pipeline:\n",
    "1. The text in preprocessed into a format the model can understand\n",
    "2. The preprocessed inputs are passed to the model\n",
    "3. The predictions of the model are post-processed, so we can make sense of them"
   ]
  },
  {
   "cell_type": "markdown",
   "id": "283f2210",
   "metadata": {},
   "source": [
    "Some of the currently available pipelines are:\n",
    "* feature-extraction (get the vector representation of text)\n",
    "* fill-mask\n",
    "* ner (named entity recognition)\n",
    "* question-answering\n",
    "* sentiment-analysis\n",
    "* summarization\n",
    "* text-generation\n",
    "* translation\n",
    "* zero-shot-classification"
   ]
  },
  {
   "cell_type": "markdown",
   "id": "3451de45",
   "metadata": {},
   "source": [
    "##### zero-shot classification\n",
    "Here we need to classify texts that have not been labelled. This is a common scenario in real-world projects because annotating text is usually time-consuming and requires domain expertise. For this use case, the zero-shot-classification pipeline is very powerful: it allows you to specify which labels to use for the classification, so you do not have to rely on the labels of the pretrained model. "
   ]
  },
  {
   "cell_type": "code",
   "execution_count": null,
   "id": "8c235cfb",
   "metadata": {
    "ExecuteTime": {
     "start_time": "2022-07-16T17:41:16.100Z"
    }
   },
   "outputs": [
    {
     "name": "stderr",
     "output_type": "stream",
     "text": [
      "No model was supplied, defaulted to facebook/bart-large-mnli (https://huggingface.co/facebook/bart-large-mnli)\n"
     ]
    },
    {
     "data": {
      "application/vnd.jupyter.widget-view+json": {
       "model_id": "600edee879a34bccb34db21a36fe7b70",
       "version_major": 2,
       "version_minor": 0
      },
      "text/plain": [
       "Downloading:   0%|          | 0.00/1.13k [00:00<?, ?B/s]"
      ]
     },
     "metadata": {},
     "output_type": "display_data"
    },
    {
     "data": {
      "application/vnd.jupyter.widget-view+json": {
       "model_id": "3ba05127f749483f90dd93fdfac2ce94",
       "version_major": 2,
       "version_minor": 0
      },
      "text/plain": [
       "Downloading:   0%|          | 0.00/1.52G [00:00<?, ?B/s]"
      ]
     },
     "metadata": {},
     "output_type": "display_data"
    }
   ],
   "source": [
    "classifier_1 = pipeline(\"zero-shot-classification\")"
   ]
  },
  {
   "cell_type": "code",
   "execution_count": null,
   "id": "a8bc7958",
   "metadata": {},
   "outputs": [],
   "source": [
    "classifier_1(\n",
    "    \"This is a course about the Transformers library\",\n",
    "    candidate_labels=[\"education\", \"politics\", \"business\"],\n",
    ")"
   ]
  }
 ],
 "metadata": {
  "kernelspec": {
   "display_name": "Python 3",
   "language": "python",
   "name": "python3"
  },
  "language_info": {
   "codemirror_mode": {
    "name": "ipython",
    "version": 3
   },
   "file_extension": ".py",
   "mimetype": "text/x-python",
   "name": "python",
   "nbconvert_exporter": "python",
   "pygments_lexer": "ipython3",
   "version": "3.9.5"
  }
 },
 "nbformat": 4,
 "nbformat_minor": 5
}
