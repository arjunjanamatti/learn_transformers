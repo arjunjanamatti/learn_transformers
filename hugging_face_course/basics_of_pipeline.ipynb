{
 "cells": [
  {
   "cell_type": "code",
   "execution_count": 1,
   "id": "ccf5a790",
   "metadata": {
    "ExecuteTime": {
     "end_time": "2022-07-16T18:20:09.137133Z",
     "start_time": "2022-07-16T18:19:56.765062Z"
    }
   },
   "outputs": [],
   "source": [
    "from transformers import pipeline"
   ]
  },
  {
   "cell_type": "code",
   "execution_count": 2,
   "id": "48baa513",
   "metadata": {
    "ExecuteTime": {
     "end_time": "2022-07-16T18:20:29.120564Z",
     "start_time": "2022-07-16T18:20:09.139126Z"
    }
   },
   "outputs": [
    {
     "name": "stderr",
     "output_type": "stream",
     "text": [
      "No model was supplied, defaulted to distilbert-base-uncased-finetuned-sst-2-english (https://huggingface.co/distilbert-base-uncased-finetuned-sst-2-english)\n"
     ]
    },
    {
     "data": {
      "text/plain": [
       "[{'label': 'POSITIVE', 'score': 0.9880545735359192}]"
      ]
     },
     "execution_count": 2,
     "metadata": {},
     "output_type": "execute_result"
    }
   ],
   "source": [
    "classifier = pipeline(\"sentiment-analysis\")\n",
    "classifier(\"I am waiting for huggings face course\")"
   ]
  },
  {
   "cell_type": "code",
   "execution_count": 3,
   "id": "ee94159e",
   "metadata": {
    "ExecuteTime": {
     "end_time": "2022-07-16T18:20:29.182591Z",
     "start_time": "2022-07-16T18:20:29.122559Z"
    }
   },
   "outputs": [
    {
     "data": {
      "text/plain": [
       "[{'label': 'POSITIVE', 'score': 0.9598049521446228},\n",
       " {'label': 'NEGATIVE', 'score': 0.9994558691978455}]"
      ]
     },
     "execution_count": 3,
     "metadata": {},
     "output_type": "execute_result"
    }
   ],
   "source": [
    "# we can pass several sentences\n",
    "classifier(\n",
    "    [\"I've been waiting for a HuggingFace course my whole life.\", \n",
    "     \"I hate this so much!\"]\n",
    ")"
   ]
  },
  {
   "cell_type": "markdown",
   "id": "a47c8418",
   "metadata": {},
   "source": [
    "Three main steps involved when we pass some text to a pipeline:\n",
    "1. The text in preprocessed into a format the model can understand\n",
    "2. The preprocessed inputs are passed to the model\n",
    "3. The predictions of the model are post-processed, so we can make sense of them"
   ]
  },
  {
   "cell_type": "markdown",
   "id": "86c091fd",
   "metadata": {},
   "source": [
    "Some of the currently available pipelines are:\n",
    "* feature-extraction (get the vector representation of text)\n",
    "* fill-mask\n",
    "* ner (named entity recognition)\n",
    "* question-answering\n",
    "* sentiment-analysis\n",
    "* summarization\n",
    "* text-generation\n",
    "* translation\n",
    "* zero-shot-classification"
   ]
  },
  {
   "cell_type": "markdown",
   "id": "3844bab7",
   "metadata": {},
   "source": [
    "##### zero-shot classification\n",
    "Here we need to classify texts that have not been labelled. This is a common scenario in real-world projects because annotating text is usually time-consuming and requires domain expertise. For this use case, the zero-shot-classification pipeline is very powerful: it allows you to specify which labels to use for the classification, so you do not have to rely on the labels of the pretrained model. "
   ]
  },
  {
   "cell_type": "code",
   "execution_count": null,
   "id": "6e1b23d2",
   "metadata": {
    "ExecuteTime": {
     "start_time": "2022-07-16T18:19:56.771Z"
    }
   },
   "outputs": [
    {
     "name": "stderr",
     "output_type": "stream",
     "text": [
      "No model was supplied, defaulted to facebook/bart-large-mnli (https://huggingface.co/facebook/bart-large-mnli)\n"
     ]
    }
   ],
   "source": [
    "classifier_1 = pipeline(\"zero-shot-classification\")"
   ]
  },
  {
   "cell_type": "code",
   "execution_count": null,
   "id": "ccff53fa",
   "metadata": {
    "ExecuteTime": {
     "start_time": "2022-07-16T18:19:56.773Z"
    }
   },
   "outputs": [],
   "source": [
    "classifier_1(\n",
    "    \"This is a course about the Transformers library\",\n",
    "    candidate_labels=[\"education\", \"politics\", \"business\"],\n",
    ")"
   ]
  },
  {
   "cell_type": "code",
   "execution_count": null,
   "id": "359882a0",
   "metadata": {
    "ExecuteTime": {
     "start_time": "2022-07-16T18:19:56.775Z"
    }
   },
   "outputs": [],
   "source": [
    "classifier_1(\n",
    "    \"The economy is may be on a downward trend worldwide\",\n",
    "    candidate_labels=[\"education\", \"politics\", \"business\"],\n",
    ")"
   ]
  },
  {
   "cell_type": "markdown",
   "id": "5f77c3b2",
   "metadata": {},
   "source": [
    "##### text generation\n",
    "The main idea here is to provide a prompt and the model will auto-complete it by generating the remaining text. This is similar to the predictive text feature that is found on many phones."
   ]
  },
  {
   "cell_type": "code",
   "execution_count": null,
   "id": "f12bfc6d",
   "metadata": {
    "ExecuteTime": {
     "start_time": "2022-07-16T18:19:56.783Z"
    }
   },
   "outputs": [],
   "source": [
    "generator = pipeline(\"text-generation\")"
   ]
  },
  {
   "cell_type": "code",
   "execution_count": null,
   "id": "6ea3e481",
   "metadata": {
    "ExecuteTime": {
     "start_time": "2022-07-16T18:19:56.785Z"
    }
   },
   "outputs": [],
   "source": [
    "# num_return_sequences will give number of sentences\n",
    "# max length is the length of each sentence\n",
    "generator(\"In India you will find\",num_return_sequences = 2, max_lenght=15)"
   ]
  },
  {
   "cell_type": "markdown",
   "id": "06e04cf3",
   "metadata": {},
   "source": [
    "The previous examples used the default model for the task at hand, but we can use a particular model from Hub to use in a pipeline for a specific task. Let's try the distilgpt2 model!"
   ]
  },
  {
   "cell_type": "code",
   "execution_count": null,
   "id": "0bb7265c",
   "metadata": {
    "ExecuteTime": {
     "start_time": "2022-07-16T18:19:56.789Z"
    }
   },
   "outputs": [],
   "source": [
    "generator_1 = pipeline(\"text-generation\",\n",
    "                       model = \"distilgpt2\")"
   ]
  },
  {
   "cell_type": "code",
   "execution_count": null,
   "id": "a8a564aa",
   "metadata": {
    "ExecuteTime": {
     "start_time": "2022-07-16T18:19:56.791Z"
    }
   },
   "outputs": [],
   "source": [
    "generator_1(\"In India you will find\",num_return_sequences = 2, max_lenght=15)"
   ]
  },
  {
   "cell_type": "markdown",
   "id": "59eb744a",
   "metadata": {},
   "source": [
    "##### Mask filling\n",
    "The idea is to fill in the blanks in a given text"
   ]
  },
  {
   "cell_type": "code",
   "execution_count": null,
   "id": "65f501fe",
   "metadata": {
    "ExecuteTime": {
     "start_time": "2022-07-16T18:19:56.794Z"
    }
   },
   "outputs": [],
   "source": [
    "unmasker = pipeline(\"fill-mask\")"
   ]
  },
  {
   "cell_type": "code",
   "execution_count": null,
   "id": "ad71ff64",
   "metadata": {
    "ExecuteTime": {
     "start_time": "2022-07-16T18:19:56.795Z"
    }
   },
   "outputs": [],
   "source": [
    "# top_k argument controls how many possibilities want to be displayed\n",
    "unmasker(\"India is the most <mask> country\", top_k=2)"
   ]
  },
  {
   "cell_type": "markdown",
   "id": "674c9b83",
   "metadata": {},
   "source": [
    "##### named entity recognition\n",
    "NER is a task where the model has to find which parts of the input text correspond to entities such as persons, locations or organizations"
   ]
  },
  {
   "cell_type": "code",
   "execution_count": null,
   "id": "b2abefe4",
   "metadata": {
    "ExecuteTime": {
     "start_time": "2022-07-16T18:19:56.798Z"
    }
   },
   "outputs": [],
   "source": [
    "# we pass option grouped_entities=True in the pipeline creation function\n",
    "# to tell the pipeline to regroup together the parts of sentence that\n",
    "# correspond to same entity\n",
    "ner = pipeline(\"ner\", grouped_entities=True)"
   ]
  },
  {
   "cell_type": "code",
   "execution_count": null,
   "id": "5331fbc3",
   "metadata": {
    "ExecuteTime": {
     "start_time": "2022-07-16T18:19:56.800Z"
    }
   },
   "outputs": [],
   "source": [
    "# here the model has correctly grouped Shneider Electric as a single \n",
    "# organization, even though name consists of multiple words\n",
    "ner(\"My name is AJ and I work at Schneider Electric in India.\")"
   ]
  },
  {
   "cell_type": "code",
   "execution_count": null,
   "id": "14413856",
   "metadata": {},
   "outputs": [],
   "source": []
  }
 ],
 "metadata": {
  "kernelspec": {
   "display_name": "Python 3",
   "language": "python",
   "name": "python3"
  },
  "language_info": {
   "codemirror_mode": {
    "name": "ipython",
    "version": 3
   },
   "file_extension": ".py",
   "mimetype": "text/x-python",
   "name": "python",
   "nbconvert_exporter": "python",
   "pygments_lexer": "ipython3",
   "version": "3.9.5"
  }
 },
 "nbformat": 4,
 "nbformat_minor": 5
}
